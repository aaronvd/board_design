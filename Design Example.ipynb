{
 "cells": [
  {
   "cell_type": "markdown",
   "metadata": {},
   "source": [
    "Example notebook demonstrating usage of the board_classes module."
   ]
  },
  {
   "cell_type": "markdown",
   "metadata": {},
   "source": [
    "### Import modules"
   ]
  },
  {
   "cell_type": "code",
   "execution_count": 1,
   "metadata": {},
   "outputs": [],
   "source": [
    "import board_classes as bc\n",
    "import rf_functions as rf\n",
    "import numpy as np\n",
    "from matplotlib import pyplot as plt\n",
    "import scipy.constants\n",
    "\n",
    "def set_font(fontsize=15, font=\"Times New Roman\"):\n",
    "    rc = {\"font.size\" : fontsize,\n",
    "    \"font.family\" : font,\n",
    "    \"mathtext.fontset\" : \"stix\"}\n",
    "    plt.rcParams.update(rc)\n",
    "set_font(fontsize=15)\n",
    "\n",
    "cm = 1E-2"
   ]
  },
  {
   "cell_type": "markdown",
   "metadata": {},
   "source": [
    "### General parameters"
   ]
  },
  {
   "cell_type": "code",
   "execution_count": 2,
   "metadata": {},
   "outputs": [
    {
     "name": "stdout",
     "output_type": "stream",
     "text": [
      "PARAMETER                 VALUE                    \n",
      "Lx_board                  0.2                      \n",
      "Ly_board                  0.07                     \n",
      "eps_r                     3.38                     \n",
      "f_design                  10000000000.0            \n",
      "lambda_design             0.03                     \n",
      "elements_delta_x          0.01                     \n",
      "elements_delta_y          0.01                     \n",
      "element_x_offset          0.003                    \n",
      "w_wg                      0.02                     \n",
      "waveguide_spacing         0.0025                   \n",
      "f_c                       4076640000.007458        \n",
      "n_g                       1.6787727699987698       \n",
      "grating_threshold         0.011199158187655376     \n",
      "via_diameter              0.0005                   \n",
      "siw_via_pitch             0.00115                  \n",
      "\n",
      "COMPONENTS               \n",
      "                         \n",
      "\n"
     ]
    }
   ],
   "source": [
    "c = scipy.constants.c\n",
    "\n",
    "board = bc.Board(Lx_board=20*cm, Ly_board=7*cm)\n",
    "\n",
    "board.params['eps_r'] = 3.38\n",
    "board.params['f_design'] = 10E9\n",
    "board.params['lambda_design'] = np.around(c/board.params['f_design'], decimals=4)\n",
    "board.params['elements_delta_x'] = board.params['lambda_design']/3\n",
    "board.params['elements_delta_y'] = board.params['lambda_design']/3\n",
    "board.params['element_x_offset'] = 0.3*cm\n",
    "board.params['w_wg'] = 2*cm\n",
    "board.params['waveguide_spacing'] = 0.25*cm\n",
    "board.params['f_c'] = rf.cutoff_frequency_10(board.params['eps_r'], board.params['w_wg'])\n",
    "board.params['n_g'] = rf.n_g(board.params['eps_r'], board.params['w_wg'], board.params['f_design'])\n",
    "board.params['grating_threshold'] = rf.grating_threshold(board.params['lambda_design'], board.params['n_g'])\n",
    "\n",
    "board.params['via_diameter'] = 0.05*cm\n",
    "board.params['siw_via_pitch'] = 2.3*board.params['via_diameter'] #should have p<2.5d, optimally p=2d\n",
    "\n",
    "print(board)"
   ]
  },
  {
   "cell_type": "markdown",
   "metadata": {},
   "source": [
    "### Transition parameters"
   ]
  },
  {
   "cell_type": "code",
   "execution_count": 3,
   "metadata": {},
   "outputs": [
    {
     "name": "stdout",
     "output_type": "stream",
     "text": [
      "PARAMETER                 VALUE                    \n",
      "L_track                   0.0215                   \n",
      "L_taper                   0.005                    \n",
      "L_tip                     0.00127                  \n",
      "w_gap                     0.000245                 \n",
      "w_track                   0.0011400000000000002    \n",
      "w_tip                     0.00089                  \n",
      "w1                        0.01225                  \n",
      "w2                        0.008100000000000001     \n",
      "name                      transition               \n",
      "type                      polygon                  \n",
      "\n"
     ]
    },
    {
     "data": {
      "image/png": "[encoded data removed]",
      "text/plain": [
       "<Figure size 360x360 with 1 Axes>"
      ]
     },
     "metadata": {
      "needs_background": "light"
     },
     "output_type": "display_data"
    }
   ],
   "source": [
    "transition = bc.Transition(L_track=2.15*cm,\n",
    "                           L_taper=0.5*cm,\n",
    "                           L_tip=0.127*cm, \n",
    "                           w_gap=0.0245*cm, \n",
    "                           w_track=0.114*cm, \n",
    "                           w_tip=0.089*cm, \n",
    "                           w1=1.225*cm, \n",
    "                           w2=0.81*cm,\n",
    "                           name='transition')\n",
    "print(transition)\n",
    "transition.plot()"
   ]
  },
  {
   "cell_type": "markdown",
   "metadata": {},
   "source": [
    "### SIW parameters"
   ]
  },
  {
   "cell_type": "code",
   "execution_count": 4,
   "metadata": {},
   "outputs": [
    {
     "name": "stdout",
     "output_type": "stream",
     "text": [
      "PARAMETER                 VALUE                    \n",
      "L_wg                      0.14700000000000002      \n",
      "w_wg                      0.02                     \n",
      "L_taper                   0.005                    \n",
      "L_track                   0.0215                   \n",
      "w_wall                    0.002445                 \n",
      "pitch                     0.00115                  \n",
      "even                      1                        \n",
      "mode                      open                     \n",
      "name                      siw                      \n",
      "type                      scatter                  \n",
      "\n"
     ]
    },
    {
     "data": {
      "image/png": "[encoded data removed]",
      "text/plain": [
       "<Figure size 360x360 with 1 Axes>"
      ]
     },
     "metadata": {
      "needs_background": "light"
     },
     "output_type": "display_data"
    }
   ],
   "source": [
    "L_transition = transition.params['L_track'] + transition.params['L_taper']\n",
    "\n",
    "siw = bc.SIW(L_wg=board.params['Lx_board'] - 2*L_transition,\n",
    "             w_wg=board.params['w_wg'],\n",
    "             L_taper=transition.params['L_taper'],\n",
    "             L_track=transition.params['L_track'],\n",
    "             w_wall=1.5*(transition.params['w_track']+2*transition.params['w_gap']),\n",
    "             pitch=board.params['siw_via_pitch'],\n",
    "             even=True,\n",
    "             mode='open',\n",
    "             name='siw')\n",
    "print(siw)\n",
    "siw.plot()"
   ]
  },
  {
   "cell_type": "markdown",
   "metadata": {},
   "source": [
    "### Element parameters"
   ]
  },
  {
   "cell_type": "code",
   "execution_count": 5,
   "metadata": {},
   "outputs": [
    {
     "name": "stdout",
     "output_type": "stream",
     "text": [
      "PARAMETER                 VALUE                    \n",
      "wx_cELC                   0.0037604                \n",
      "wy_cELC                   0.0037604                \n",
      "wx_gap                    0.00042840000000000006   \n",
      "wy_gap                    0.00042840000000000006   \n",
      "w_center                  0.0014280000000000002    \n",
      "w_gap                     0.0005712                \n",
      "w_arm1                    0.0008568000000000001    \n",
      "w_arm2                    0.0008568000000000001    \n",
      "cELC_varactor_gap         0.000225                 \n",
      "w_cELC_varactor           0.00023                  \n",
      "name                      cELC                     \n",
      "type                      polygon                  \n",
      "wx_tot                    0.0046172                \n",
      "wy_tot                    0.0046172                \n",
      "\n"
     ]
    },
    {
     "data": {
      "image/png": "[encoded data removed]",
      "text/plain": [
       "<Figure size 360x360 with 1 Axes>"
      ]
     },
     "metadata": {
      "needs_background": "light"
     },
     "output_type": "display_data"
    }
   ],
   "source": [
    "celc = bc.cELC(wx_cELC=0.37604*cm,\n",
    "               wy_cELC=0.37604*cm,\n",
    "               wx_gap=0.04284*cm,\n",
    "               wy_gap=0.04284*cm,\n",
    "               w_center=0.1428*cm,\n",
    "               w_gap=0.05712*cm,\n",
    "               w_arm1=0.08568*cm,\n",
    "               w_arm2=0.08568*cm,\n",
    "               cELC_varactor_gap=min(0.04284*cm, 0.0225*cm),\n",
    "               w_cELC_varactor=0.023*cm)\n",
    "print(celc)\n",
    "celc.plot()"
   ]
  },
  {
   "cell_type": "markdown",
   "metadata": {},
   "source": [
    "### Varactor params"
   ]
  },
  {
   "cell_type": "code",
   "execution_count": 6,
   "metadata": {},
   "outputs": [
    {
     "data": {
      "image/png": "[encoded data removed]",
      "text/plain": [
       "<Figure size 360x360 with 1 Axes>"
      ]
     },
     "metadata": {
      "needs_background": "light"
     },
     "output_type": "display_data"
    }
   ],
   "source": [
    "varactor = bc.Component(name='varactor')\n",
    "varactor.params['type'] = 'scatter'\n",
    "varactor.plot()"
   ]
  },
  {
   "cell_type": "markdown",
   "metadata": {},
   "source": [
    "### Place items"
   ]
  },
  {
   "cell_type": "code",
   "execution_count": 7,
   "metadata": {},
   "outputs": [
    {
     "name": "stdout",
     "output_type": "stream",
     "text": [
      "PARAMETER                 VALUE                    \n",
      "Lx_board                  0.2                      \n",
      "Ly_board                  0.07                     \n",
      "eps_r                     3.38                     \n",
      "f_design                  10000000000.0            \n",
      "lambda_design             0.03                     \n",
      "elements_delta_x          0.01                     \n",
      "elements_delta_y          0.01                     \n",
      "element_x_offset          0.003                    \n",
      "w_wg                      0.02                     \n",
      "waveguide_spacing         0.0025                   \n",
      "f_c                       4076640000.007458        \n",
      "n_g                       1.6787727699987698       \n",
      "grating_threshold         0.011199158187655376     \n",
      "via_diameter              0.0005                   \n",
      "siw_via_pitch             0.00115                  \n",
      "n_elements_x              14                       \n",
      "\n",
      "COMPONENTS               \n",
      "transition; siw; cELC; varactor; \n",
      "\n"
     ]
    }
   ],
   "source": [
    "### transition\n",
    "delta_y = (board.params['waveguide_spacing']+siw.params['w_wg']+transition.params['w_track'])/2+transition.params['w_gap']\n",
    "transition.move(x=0, y=board.params['Ly_board']/2 + delta_y).add().reset()\n",
    "transition.reflect_y().move(x=board.params['Lx_board'], y=board.params['Ly_board']/2 + delta_y).add().reset()\n",
    "delta_y = -(board.params['waveguide_spacing']+siw.params['w_wg'])/2 + transition.params['w_track']/2 + transition.params['w_gap']\n",
    "transition.move(x=0, y=board.params['Ly_board']/2 + delta_y).add().reset()\n",
    "transition.reflect_y().move(x=board.params['Lx_board'], y=board.params['Ly_board']/2 + delta_y).add().reset()\n",
    "board.add(transition)\n",
    "\n",
    "### siws\n",
    "delta_y = (board.params['waveguide_spacing']+siw.params['w_wg']+siw.params['w_wall'])/2\n",
    "siw.move(x=0, y=board.params['Ly_board']/2 + delta_y).add().reset()\n",
    "delta_y = (-board.params['waveguide_spacing']-siw.params['w_wg']+siw.params['w_wall'])/2\n",
    "siw.move(x=0, y=board.params['Ly_board']/2 + delta_y).add().reset()\n",
    "board.add(siw)\n",
    "\n",
    "### elements\n",
    "board.params['n_elements_x'] = int((siw.params['L_wg'] - 2*board.params['element_x_offset'])/board.params['elements_delta_x'])\n",
    "\n",
    "positions_x = np.arange(int(board.params['n_elements_x'])+1) * board.params['elements_delta_x']\n",
    "positions_x = positions_x[:int(np.floor(positions_x.size/2)*2)]\n",
    "positions_y = np.ravel(\n",
    "                np.stack(\n",
    "                    (board.params['elements_delta_y']/2*np.ones(int(positions_x.size/2)),\n",
    "                    -board.params['elements_delta_y']/2*np.ones(int(positions_x.size/2))),\n",
    "                    axis=1))\n",
    "board.element_positions = np.append(np.array([positions_x + L_transition + board.params['element_x_offset'], \n",
    "                                                        positions_y + board.params['Ly_board']/2 + board.params['waveguide_spacing']/2 + siw.params['w_wg']/2]),\n",
    "                                              np.array([positions_x + L_transition + board.params['element_x_offset'], \n",
    "                                                        positions_y + board.params['Ly_board']/2 - board.params['waveguide_spacing']/2 - siw.params['w_wg']/2]),\n",
    "                                              axis=1).transpose()\n",
    "for i in range(board.element_positions.shape[0]):\n",
    "    celc.rotate(90).move(x=board.element_positions[i,0], y=board.element_positions[i,1]).add().reset()\n",
    "board.add(celc)\n",
    "\n",
    "### varactors\n",
    "for i in range(board.element_positions.shape[0]):\n",
    "    varactor.move(x=board.element_positions[i,0]+celc.params['wy_cELC']/2+celc.params['wy_gap']/2, y=board.element_positions[i,1]).add().reset()\n",
    "board.add(varactor)\n",
    "\n",
    "%matplotlib qt\n",
    "print(board)\n",
    "board.plot()"
   ]
  },
  {
   "cell_type": "markdown",
   "metadata": {},
   "source": [
    "### Export design data"
   ]
  },
  {
   "cell_type": "code",
   "execution_count": 8,
   "metadata": {},
   "outputs": [],
   "source": [
    "board.export_items('./Design Data')"
   ]
  },
  {
   "cell_type": "markdown",
   "metadata": {},
   "source": [
    "### Save board object"
   ]
  },
  {
   "cell_type": "code",
   "execution_count": 9,
   "metadata": {},
   "outputs": [],
   "source": [
    "import pickle\n",
    "\n",
    "filename = './Design Data/board_test.pkl'\n",
    "\n",
    "with open(filename, 'wb') as f:\n",
    "    pickle.dump(board, f, protocol=2)"
   ]
  }
 ],
 "metadata": {
  "kernelspec": {
   "display_name": "Python 3.8.12 ('duke')",
   "language": "python",
   "name": "python3"
  },
  "language_info": {
   "codemirror_mode": {
    "name": "ipython",
    "version": 3
   },
   "file_extension": ".py",
   "mimetype": "text/x-python",
   "name": "python",
   "nbconvert_exporter": "python",
   "pygments_lexer": "ipython3",
   "version": "3.8.12"
  },
  "orig_nbformat": 4,
  "vscode": {
   "interpreter": {
    "hash": "219a0fbf6447c2af047bf9e467ff5e3b3e6f8037f9e2112e542884c7855ad7c1"
   }
  }
 },
 "nbformat": 4,
 "nbformat_minor": 2
}
